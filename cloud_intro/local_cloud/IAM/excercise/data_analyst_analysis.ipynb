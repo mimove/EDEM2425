{
 "cells": [
  {
   "cell_type": "markdown",
   "metadata": {},
   "source": [
    "# Analysis of prices of Valencia Areas"
   ]
  },
  {
   "cell_type": "markdown",
   "metadata": {},
   "source": [
    "First we import the data using Pandas and creating a DF"
   ]
  },
  {
   "cell_type": "code",
   "execution_count": 1,
   "metadata": {},
   "outputs": [],
   "source": [
    "import pandas as pd\n",
    "import matplotlib.pyplot as plt"
   ]
  },
  {
   "cell_type": "code",
   "execution_count": null,
   "metadata": {},
   "outputs": [],
   "source": [
    "data_file_path = \"./results/all_areas.csv\"\n",
    "\n",
    "areas_valencia_df = pd.read_csv(data_file_path)\n",
    "\n",
    "areas_valencia_df.head()"
   ]
  },
  {
   "cell_type": "markdown",
   "metadata": {},
   "source": [
    "Now that we have the data, we can perform a bit of EDA"
   ]
  },
  {
   "cell_type": "code",
   "execution_count": null,
   "metadata": {},
   "outputs": [],
   "source": [
    "# Filter rows with at least one NaN\n",
    "rows_with_nan = areas_valencia_df[areas_valencia_df.isna().any(axis=1)]\n",
    "print(f\"There are {len(rows_with_nan)} areas without data\")\n",
    "rows_with_nan"
   ]
  },
  {
   "cell_type": "markdown",
   "metadata": {},
   "source": [
    "It seems that all areas of `POBLATS` don't have any data. So we will remove them from the analysis and state it in the conclusions"
   ]
  },
  {
   "cell_type": "code",
   "execution_count": 4,
   "metadata": {},
   "outputs": [],
   "source": [
    "areas_valencia_no_nans_df = areas_valencia_df.dropna()"
   ]
  },
  {
   "cell_type": "markdown",
   "metadata": {},
   "source": [
    "Now let's find some of the important statistics for hour 4 qualitative variables"
   ]
  },
  {
   "cell_type": "code",
   "execution_count": null,
   "metadata": {},
   "outputs": [],
   "source": [
    "quantitative_columns = [\n",
    "    'precio_2022_euros_m2',\n",
    "    'precio_2010_euros_m2',\n",
    "    'max_historico_euros_m2',\n",
    "]\n",
    "\n",
    "areas_valencia_no_nans_df[quantitative_columns].describe()"
   ]
  },
  {
   "cell_type": "markdown",
   "metadata": {},
   "source": [
    "Now we have some interesting data. The average price per square meter in Valencia was in 2022 around 2100€, and the median was around 2000€. The average price has increased in 12 years by 300€ which is a 14%"
   ]
  },
  {
   "cell_type": "markdown",
   "metadata": {},
   "source": [
    "Now let see by neighbours how does the prices of 2022 look"
   ]
  },
  {
   "cell_type": "code",
   "execution_count": null,
   "metadata": {},
   "outputs": [],
   "source": [
    "x = areas_valencia_no_nans_df['barrio']\n",
    "y = areas_valencia_no_nans_df['precio_2022_euros_m2']\n",
    "\n",
    "plt.figure(figsize=(12, 10))\n",
    "plt.bar(x, y, color='skyblue')\n",
    "\n",
    "plt.title('Prices per Neighbourhood (€/m²)', fontsize=14)\n",
    "plt.xlabel('Neighbourhood', fontsize=10)\n",
    "plt.ylabel('Price 2022 (€/m²)', fontsize=10)\n",
    "plt.xticks(rotation=45, ha='right')  \n",
    "\n",
    "tick_positions = range(0, len(x), 2)\n",
    "plt.xticks(tick_positions, x.iloc[tick_positions], rotation=45, ha='right')\n",
    "\n",
    "plt.tight_layout()\n",
    "plt.show()"
   ]
  },
  {
   "cell_type": "markdown",
   "metadata": {},
   "source": [
    "We see a great variability (as expected), which some areas having a price of around 1000€ per square meter, while others have a price of more than 3000€ per square meter"
   ]
  },
  {
   "cell_type": "markdown",
   "metadata": {},
   "source": [
    "Now let group them by distric to have a more concise idea"
   ]
  },
  {
   "cell_type": "code",
   "execution_count": null,
   "metadata": {},
   "outputs": [],
   "source": [
    "districts_valencia_no_nans_df = areas_valencia_no_nans_df.groupby('distrito')['precio_2022_euros_m2'].mean().reset_index()\n",
    "\n",
    "x = districts_valencia_no_nans_df['distrito']\n",
    "y = districts_valencia_no_nans_df['precio_2022_euros_m2']\n",
    "\n",
    "plt.figure(figsize=(12, 10))\n",
    "plt.bar(x, y, color='lightcoral')\n",
    "\n",
    "plt.title('Prices per district (€/m²)', fontsize=14)\n",
    "plt.xlabel('Districts', fontsize=10)\n",
    "plt.ylabel('Price 2022 (€/m²)', fontsize=10)\n",
    "plt.xticks(rotation=45, ha='right')  # Rotate x-axis labels for better readability\n",
    "\n",
    "# Show the plot\n",
    "plt.tight_layout()\n",
    "plt.show()"
   ]
  },
  {
   "cell_type": "markdown",
   "metadata": {},
   "source": [
    "Now the information is more concise and we can see that the top 3 district with the highest prices are L'EIXAMPLE, CIUTAT VELLA and EL PLA DEL REAL, whereas the three cheapest are L'OLIVERATA, JESUS and BENICALAP"
   ]
  }
 ],
 "metadata": {
  "kernelspec": {
   "display_name": ".venv",
   "language": "python",
   "name": "python3"
  },
  "language_info": {
   "codemirror_mode": {
    "name": "ipython",
    "version": 3
   },
   "file_extension": ".py",
   "mimetype": "text/x-python",
   "name": "python",
   "nbconvert_exporter": "python",
   "pygments_lexer": "ipython3",
   "version": "3.11.7"
  }
 },
 "nbformat": 4,
 "nbformat_minor": 2
}
